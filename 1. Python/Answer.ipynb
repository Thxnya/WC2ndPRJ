{
 "cells": [
  {
   "cell_type": "markdown",
   "id": "39e8a0cd",
   "metadata": {},
   "source": [
    "# 순서쌍의 개수\n",
    "<br><br>\n",
    "순서쌍이란 두 개의 숫자를 순서를 정하여 짝지어 나타낸 쌍으로 (a, b)로\n",
    "표기합니다.<br><br> 자연수 n 이 매개변수로 주어질 때,<br><br> 두 숫자의 곱이 n 인 자연수\n",
    "순서쌍의 개수를 return 하도록 solution 함수를 완성해주세요."
   ]
  },
  {
   "cell_type": "code",
   "execution_count": 105,
   "id": "9ed13385",
   "metadata": {},
   "outputs": [],
   "source": [
    "def solution(n):\n",
    "    # 변수 지정\n",
    "    result = 0\n",
    "\n",
    "    # 자연수 n의 약수 체크\n",
    "    for v in range(1,int(n/2)+1):\n",
    "        if n%v == 0:\n",
    "            result += 1\n",
    "    \n",
    "    # (n, 1) 더해주기\n",
    "    result += 1   \n",
    "\n",
    "    return result"
   ]
  },
  {
   "cell_type": "code",
   "execution_count": 108,
   "id": "9b6444e0",
   "metadata": {},
   "outputs": [
    {
     "name": "stdout",
     "output_type": "stream",
     "text": [
      "자연수 20의 순서쌍의 개수 : 6\n",
      "\n",
      "\n",
      "자연수 100의 순서쌍의 개수 : 9\n"
     ]
    }
   ],
   "source": [
    "# test case\n",
    "n = 20\n",
    "print(f'자연수 {n}의 순서쌍의 개수 :' , solution(n))\n",
    "print('\\n')\n",
    "n = 100\n",
    "print(f'자연수 {n}의 순서쌍의 개수 :' , solution(n))"
   ]
  },
  {
   "cell_type": "markdown",
   "id": "a4ea973e",
   "metadata": {},
   "source": [
    "# 옹알이\n",
    "<br><br>\n",
    "머쓱이는 태어난 지 6 개월 된 조카를 돌보고 있습니다.<br><br> 조카는 아직 \"aya\", \"ye\",\n",
    "\"woo\", \"ma\" 네 가지 발음을 최대 한 번씩 사용해 조합한(이어 붙인) 발음밖에\n",
    "하지 못합니다.<br><br> 문자열 배열 babbling 이 매개변수로 주어질 때,<br><br> 머쓱이의 조카가\n",
    "발음할 수 있는 단어의 개수를 return 하도록 solution 함수를 완성해주세요."
   ]
  },
  {
   "cell_type": "code",
   "execution_count": 109,
   "id": "1d7f1bd1",
   "metadata": {},
   "outputs": [],
   "source": [
    "from itertools import permutations\n",
    "\n",
    "def solution(babbling):\n",
    "    # 변수 지정\n",
    "    result = 0\n",
    "    nephew = ['aya', 'ye', 'woo', 'ma']\n",
    "    comb = []\n",
    "\n",
    "    # 모든 옹알이의 경우의 수 생성\n",
    "    for x in range(2,5):\n",
    "        for y in permutations(nephew, x):\n",
    "            r = ''\n",
    "            for z in y:\n",
    "                r += z\n",
    "            comb.append(r)\n",
    "    nephew += comb\n",
    "    \n",
    "    # babbling 체크\n",
    "    for n in babbling:\n",
    "        if n in nephew:\n",
    "            result += 1\n",
    "    \n",
    "    return result"
   ]
  },
  {
   "cell_type": "code",
   "execution_count": 110,
   "id": "246a2402",
   "metadata": {},
   "outputs": [
    {
     "name": "stdout",
     "output_type": "stream",
     "text": [
      "조카가 발음할 수 있는 옹알이의 개수 : 1\n",
      "\n",
      "\n",
      "조카가 발음할 수 있는 옹알이의 개수 : 3\n"
     ]
    }
   ],
   "source": [
    "# test case\n",
    "babbling = [\"aya\", \"yee\", \"u\", \"maa\", \"wyeoo\"]\n",
    "print(f'조카가 발음할 수 있는 옹알이의 개수 :' , solution(babbling))\n",
    "print('\\n')\n",
    "babbling = [\"ayaye\", \"uuuma\", \"ye\", \"yemawoo\", \"ayaa\"]\n",
    "print(f'조카가 발음할 수 있는 옹알이의 개수 :' , solution(babbling))"
   ]
  },
  {
   "cell_type": "markdown",
   "id": "19635747",
   "metadata": {},
   "source": [
    "# 삼총사\n",
    "<br><br>\n",
    "한국중학교에 다니는 학생들은 각자 정수 번호를 갖고 있습니다.<br><br> 이 학교 학생\n",
    "3 명의 정수 번호를 더했을 때 0 이 되면 3 명의 학생은 삼총사라고 합니다.<br><br> 예를\n",
    "들어, 5 명의 학생이 있고, 각각의 정수 번호가 순서대로 -2, 3, 0, 2, -5 일 때,<br><br> 첫\n",
    "번째, 세 번째, 네 번째 학생의 정수 번호를 더하면 0 이므로 세 학생은\n",
    "삼총사입니다.<br><br> 또한, 두 번째, 네 번째, 다섯 번째 학생의 정수 번호를 더해도\n",
    "0 이므로 세 학생도 삼총사입니다.<br><br> 따라서 이 경우 한국중학교에서는 두 가지\n",
    "방법으로 삼총사를 만들 수 있습니다.<br><br>\n",
    "한국중학교 학생들의 번호를 나타내는 정수 배열 number 가 매개변수로 주어질\n",
    "때,<br><br> 학생들 중 삼총사를 만들 수 있는 방법의 수를 return 하도록 solution 함수를\n",
    "완성하세요."
   ]
  },
  {
   "cell_type": "code",
   "execution_count": 111,
   "id": "4190f6a7",
   "metadata": {},
   "outputs": [],
   "source": [
    "from itertools import combinations\n",
    "\n",
    "def solution(number):\n",
    "    # 변수지정\n",
    "    result = 0\n",
    "    \n",
    "    # 세 학생의 번호의 합 모든 경우의 수 체크\n",
    "    for x in combinations(number, 3):\n",
    "        s = 0\n",
    "        for y in x:\n",
    "            s += y\n",
    "        if s == 0: # 세 학생의 번호의 합이 0일 경우 result에 1 더해주기\n",
    "            result += 1\n",
    "\n",
    "    return result"
   ]
  },
  {
   "cell_type": "code",
   "execution_count": 112,
   "id": "bf96b534",
   "metadata": {},
   "outputs": [
    {
     "name": "stdout",
     "output_type": "stream",
     "text": [
      "삼총사가 만들어지는 경우의 수 : 2\n",
      "\n",
      "\n",
      "삼총사가 만들어지는 경우의 수 : 5\n",
      "\n",
      "\n",
      "삼총사가 만들어지는 경우의 수 : 0\n"
     ]
    }
   ],
   "source": [
    "# test case\n",
    "number = [-2, 3, 0, 2, -5]\n",
    "print(f'삼총사가 만들어지는 경우의 수 :' , solution(number))\n",
    "print('\\n')\n",
    "number = [-3, -2, -1, 0, 1, 2, 3]\n",
    "print(f'삼총사가 만들어지는 경우의 수 :' , solution(number))\n",
    "print('\\n')\n",
    "number = [-1, 1, -1, 1]\n",
    "print(f'삼총사가 만들어지는 경우의 수 :' , solution(number))"
   ]
  },
  {
   "cell_type": "markdown",
   "id": "78d2012d",
   "metadata": {},
   "source": [
    "# 기대이자율 구하기\n",
    "<img src='https://user-images.githubusercontent.com/104615422/201561900-8eeab14c-a4b4-43b5-b556-fab0ebe7acd2.png' style=\"float: left; width:250px; height:168px;\"><br><br><br><br><br><br><br><br><br><br>\n",
    "이 때 a, b, c가 결정되어 있다면 x를 구하시오.<br><br>\n",
    "pandas를 사용하여 위 문제를 해결<br><br>\n",
    "산출되는 이자율의 오차율은 0.05% 이내로 허용"
   ]
  },
  {
   "cell_type": "code",
   "execution_count": 2,
   "id": "b105f53f",
   "metadata": {},
   "outputs": [],
   "source": [
    "# 라이브러리 호출\n",
    "import pandas as pd"
   ]
  },
  {
   "cell_type": "code",
   "execution_count": null,
   "id": "3e6b6d26",
   "metadata": {},
   "outputs": [],
   "source": []
  },
  {
   "cell_type": "code",
   "execution_count": null,
   "id": "91edd62d",
   "metadata": {},
   "outputs": [],
   "source": []
  },
  {
   "cell_type": "code",
   "execution_count": null,
   "id": "a9aeded8",
   "metadata": {},
   "outputs": [],
   "source": []
  },
  {
   "cell_type": "code",
   "execution_count": null,
   "id": "2497670f",
   "metadata": {},
   "outputs": [],
   "source": []
  },
  {
   "cell_type": "code",
   "execution_count": null,
   "id": "36410062",
   "metadata": {},
   "outputs": [],
   "source": []
  },
  {
   "cell_type": "code",
   "execution_count": null,
   "id": "e64fcf61",
   "metadata": {},
   "outputs": [],
   "source": []
  }
 ],
 "metadata": {
  "kernelspec": {
   "display_name": "Python 3 (ipykernel)",
   "language": "python",
   "name": "python3"
  },
  "language_info": {
   "codemirror_mode": {
    "name": "ipython",
    "version": 3
   },
   "file_extension": ".py",
   "mimetype": "text/x-python",
   "name": "python",
   "nbconvert_exporter": "python",
   "pygments_lexer": "ipython3",
   "version": "3.9.13"
  }
 },
 "nbformat": 4,
 "nbformat_minor": 5
}
