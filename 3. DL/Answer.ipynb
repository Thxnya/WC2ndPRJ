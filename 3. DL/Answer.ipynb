{
 "cells": [
  {
   "cell_type": "code",
   "execution_count": 7,
   "id": "e3cc2303",
   "metadata": {},
   "outputs": [],
   "source": [
    "# 라이브러리 호출\n",
    "import tensorflow as tf\n",
    "\n",
    "from tensorflow.keras.models import Sequential\n",
    "from tensorflow.keras.layers import Dense, Conv2D, AvgPool2D, Flatten"
   ]
  },
  {
   "cell_type": "code",
   "execution_count": 8,
   "id": "fad86f49",
   "metadata": {
    "scrolled": false
   },
   "outputs": [],
   "source": [
    "def LeNet_5():\n",
    "    # 모델 생성\n",
    "    model = Sequential()\n",
    "\n",
    "    # 네트워크 구성\n",
    "    model.add(Conv2D(filters=6, kernel_size=5, strides=1, activation='tanh', \n",
    "                     kernel_initializer = 'random_normal', bias_initializer = 'random_normal', input_shape=(32,32,1)))\n",
    "    model.add(AvgPool2D(pool_size=(2,2), strides=2))\n",
    "    model.add(Conv2D(filters=16, kernel_size=5, strides=1, activation='tanh',\n",
    "                    kernel_initializer = 'random_normal', bias_initializer = 'random_normal'))\n",
    "    model.add(AvgPool2D(pool_size=(2,2), strides=2))\n",
    "    model.add(Conv2D(filters=120, kernel_size=5, strides=1, activation='tanh',\n",
    "                    kernel_initializer = 'random_normal', bias_initializer = 'random_normal'))\n",
    "    model.add(Flatten())\n",
    "    model.add(Dense(84, activation='tanh',\n",
    "                   kernel_initializer = 'random_normal', bias_initializer = 'random_normal'))\n",
    "    model.add(Dense(10, activation='softmax',\n",
    "                   kernel_initializer = 'random_normal', bias_initializer = 'random_normal'))\n",
    "\n",
    "    # 컴파일\n",
    "    model.compile(optimizer='Adam',\n",
    "                  loss='sparse_categorical_crossentropy',\n",
    "                  metrics=['accuracy'])\n",
    "\n",
    "    # 네트워크 구성 출력\n",
    "    print(model.summary())\n",
    "    \n",
    "    return model"
   ]
  },
  {
   "cell_type": "markdown",
   "id": "f9ec76d5",
   "metadata": {},
   "source": [
    "# cifar10 데이터로 테스트"
   ]
  },
  {
   "cell_type": "code",
   "execution_count": 9,
   "id": "11d15866",
   "metadata": {},
   "outputs": [],
   "source": [
    "# 라이브러리 호출\n",
    "import numpy as np\n",
    "import cv2\n",
    "from tensorflow.keras.datasets import cifar10\n",
    "from tensorflow.keras.utils import to_categorical\n",
    "from sklearn.model_selection import train_test_split\n",
    "\n",
    "# cifar10 데이터셋 로드\n",
    "(x_data_org, y_target), (x_test_org, y_test) = cifar10.load_data()\n",
    "\n",
    "# 빈 array 생성\n",
    "x_data = np.zeros((x_data_org.shape[0], 32, 32)) \n",
    "x_test = np.zeros((x_test_org.shape[0], 32, 32))\n",
    "\n",
    "# 컬러 -> 흑백\n",
    "for i in range(len(x_data_org)):\n",
    "    x_data[i] = cv2.cvtColor(x_data_org[i], cv2.COLOR_BGR2GRAY)\n",
    "for i in range(len(x_test_org)):\n",
    "    x_test[i] = cv2.cvtColor(x_test_org[i], cv2.COLOR_BGR2GRAY)\n",
    "\n",
    "# 모델과 동일한 형태로 데이터셋 변형\n",
    "x_data = x_data.reshape(-1,32,32,1)\n",
    "x_test = x_test.reshape(-1,32,32,1)\n",
    "\n",
    "# train 데이터와 val 데이터 나눠주기\n",
    "x_train, x_val, y_train, y_val = train_test_split(x_data, y_target)"
   ]
  },
  {
   "cell_type": "code",
   "execution_count": 10,
   "id": "a5270937",
   "metadata": {},
   "outputs": [
    {
     "name": "stdout",
     "output_type": "stream",
     "text": [
      "(37500, 32, 32, 1) (12500, 32, 32, 1) (10000, 32, 32, 1)\n",
      "(37500, 1) (12500, 1) (10000, 1)\n"
     ]
    }
   ],
   "source": [
    "# 데이터셋 shape 확인\n",
    "print(x_train.shape, x_val.shape, x_test.shape)\n",
    "print(y_train.shape, y_val.shape, y_test.shape)"
   ]
  },
  {
   "cell_type": "code",
   "execution_count": 11,
   "id": "e901b24b",
   "metadata": {},
   "outputs": [
    {
     "name": "stdout",
     "output_type": "stream",
     "text": [
      "Model: \"sequential_1\"\n",
      "_________________________________________________________________\n",
      " Layer (type)                Output Shape              Param #   \n",
      "=================================================================\n",
      " conv2d_3 (Conv2D)           (None, 28, 28, 6)         156       \n",
      "                                                                 \n",
      " average_pooling2d_2 (Averag  (None, 14, 14, 6)        0         \n",
      " ePooling2D)                                                     \n",
      "                                                                 \n",
      " conv2d_4 (Conv2D)           (None, 10, 10, 16)        2416      \n",
      "                                                                 \n",
      " average_pooling2d_3 (Averag  (None, 5, 5, 16)         0         \n",
      " ePooling2D)                                                     \n",
      "                                                                 \n",
      " conv2d_5 (Conv2D)           (None, 1, 1, 120)         48120     \n",
      "                                                                 \n",
      " flatten_1 (Flatten)         (None, 120)               0         \n",
      "                                                                 \n",
      " dense_2 (Dense)             (None, 84)                10164     \n",
      "                                                                 \n",
      " dense_3 (Dense)             (None, 10)                850       \n",
      "                                                                 \n",
      "=================================================================\n",
      "Total params: 61,706\n",
      "Trainable params: 61,706\n",
      "Non-trainable params: 0\n",
      "_________________________________________________________________\n",
      "None\n"
     ]
    }
   ],
   "source": [
    "# 모델 생성\n",
    "model = LeNet_5()"
   ]
  },
  {
   "cell_type": "code",
   "execution_count": 12,
   "id": "9fd135de",
   "metadata": {
    "scrolled": true
   },
   "outputs": [
    {
     "name": "stdout",
     "output_type": "stream",
     "text": [
      "Epoch 1/30\n",
      "1172/1172 [==============================] - 5s 3ms/step - loss: 1.8416 - accuracy: 0.3266 - val_loss: 1.6604 - val_accuracy: 0.4054\n",
      "Epoch 2/30\n",
      "1172/1172 [==============================] - 4s 3ms/step - loss: 1.6129 - accuracy: 0.4222 - val_loss: 1.5499 - val_accuracy: 0.4466\n",
      "Epoch 3/30\n",
      "1172/1172 [==============================] - 4s 3ms/step - loss: 1.5157 - accuracy: 0.4590 - val_loss: 1.5810 - val_accuracy: 0.4430\n",
      "Epoch 4/30\n",
      "1172/1172 [==============================] - 4s 3ms/step - loss: 1.4415 - accuracy: 0.4876 - val_loss: 1.4627 - val_accuracy: 0.4873\n",
      "Epoch 5/30\n",
      "1172/1172 [==============================] - 4s 3ms/step - loss: 1.3762 - accuracy: 0.5131 - val_loss: 1.4418 - val_accuracy: 0.4946\n",
      "Epoch 6/30\n",
      "1172/1172 [==============================] - 4s 3ms/step - loss: 1.3325 - accuracy: 0.5287 - val_loss: 1.4378 - val_accuracy: 0.4966\n",
      "Epoch 7/30\n",
      "1172/1172 [==============================] - 4s 3ms/step - loss: 1.2811 - accuracy: 0.5485 - val_loss: 1.4082 - val_accuracy: 0.5088\n",
      "Epoch 8/30\n",
      "1172/1172 [==============================] - 4s 3ms/step - loss: 1.2415 - accuracy: 0.5597 - val_loss: 1.4193 - val_accuracy: 0.5031\n",
      "Epoch 9/30\n",
      "1172/1172 [==============================] - 4s 3ms/step - loss: 1.2011 - accuracy: 0.5780 - val_loss: 1.3986 - val_accuracy: 0.5151\n",
      "Epoch 10/30\n",
      "1172/1172 [==============================] - 4s 3ms/step - loss: 1.1662 - accuracy: 0.5867 - val_loss: 1.4156 - val_accuracy: 0.5109\n",
      "Epoch 11/30\n",
      "1172/1172 [==============================] - 4s 4ms/step - loss: 1.1322 - accuracy: 0.6002 - val_loss: 1.4465 - val_accuracy: 0.5008\n",
      "Epoch 12/30\n",
      "1172/1172 [==============================] - 4s 4ms/step - loss: 1.0971 - accuracy: 0.6141 - val_loss: 1.4231 - val_accuracy: 0.5139\n",
      "Epoch 13/30\n",
      "1172/1172 [==============================] - 4s 3ms/step - loss: 1.0648 - accuracy: 0.6254 - val_loss: 1.4740 - val_accuracy: 0.5082\n",
      "Epoch 14/30\n",
      "1172/1172 [==============================] - 4s 3ms/step - loss: 1.0325 - accuracy: 0.6384 - val_loss: 1.4886 - val_accuracy: 0.5021\n",
      "Epoch 15/30\n",
      "1172/1172 [==============================] - 4s 3ms/step - loss: 1.0086 - accuracy: 0.6448 - val_loss: 1.5147 - val_accuracy: 0.4996\n",
      "Epoch 16/30\n",
      "1172/1172 [==============================] - 4s 3ms/step - loss: 0.9728 - accuracy: 0.6601 - val_loss: 1.4985 - val_accuracy: 0.5071\n",
      "Epoch 17/30\n",
      "1172/1172 [==============================] - 4s 3ms/step - loss: 0.9489 - accuracy: 0.6683 - val_loss: 1.5693 - val_accuracy: 0.4955\n",
      "Epoch 18/30\n",
      "1172/1172 [==============================] - 4s 4ms/step - loss: 0.9267 - accuracy: 0.6726 - val_loss: 1.5530 - val_accuracy: 0.5031\n",
      "Epoch 19/30\n",
      "1172/1172 [==============================] - 4s 4ms/step - loss: 0.8964 - accuracy: 0.6852 - val_loss: 1.6080 - val_accuracy: 0.4906\n",
      "Epoch 20/30\n",
      "1172/1172 [==============================] - 4s 3ms/step - loss: 0.8701 - accuracy: 0.6940 - val_loss: 1.5707 - val_accuracy: 0.4969\n",
      "Epoch 21/30\n",
      "1172/1172 [==============================] - 4s 4ms/step - loss: 0.8435 - accuracy: 0.7041 - val_loss: 1.5786 - val_accuracy: 0.5093\n",
      "Epoch 22/30\n",
      "1172/1172 [==============================] - 4s 4ms/step - loss: 0.8304 - accuracy: 0.7088 - val_loss: 1.6099 - val_accuracy: 0.4970\n",
      "Epoch 23/30\n",
      "1172/1172 [==============================] - 4s 4ms/step - loss: 0.8001 - accuracy: 0.7206 - val_loss: 1.6828 - val_accuracy: 0.4962\n",
      "Epoch 24/30\n",
      "1172/1172 [==============================] - 4s 3ms/step - loss: 0.7848 - accuracy: 0.7236 - val_loss: 1.6793 - val_accuracy: 0.4969\n",
      "Epoch 25/30\n",
      "1172/1172 [==============================] - 4s 4ms/step - loss: 0.7614 - accuracy: 0.7332 - val_loss: 1.6927 - val_accuracy: 0.4958\n",
      "Epoch 26/30\n",
      "1172/1172 [==============================] - 4s 4ms/step - loss: 0.7392 - accuracy: 0.7411 - val_loss: 1.7210 - val_accuracy: 0.4925\n",
      "Epoch 27/30\n",
      "1172/1172 [==============================] - 4s 3ms/step - loss: 0.7215 - accuracy: 0.7454 - val_loss: 1.7629 - val_accuracy: 0.4880\n",
      "Epoch 28/30\n",
      "1172/1172 [==============================] - 4s 4ms/step - loss: 0.6988 - accuracy: 0.7532 - val_loss: 1.8148 - val_accuracy: 0.4886\n",
      "Epoch 29/30\n",
      "1172/1172 [==============================] - 4s 3ms/step - loss: 0.6844 - accuracy: 0.7587 - val_loss: 1.8307 - val_accuracy: 0.4882\n",
      "Epoch 30/30\n",
      "1172/1172 [==============================] - 4s 3ms/step - loss: 0.6725 - accuracy: 0.7666 - val_loss: 1.8376 - val_accuracy: 0.4908\n"
     ]
    }
   ],
   "source": [
    "# Train\n",
    "history = model.fit(x_train,\n",
    "                    y_train,\n",
    "                    validation_data=(x_val, y_val),\n",
    "                    epochs=30,\n",
    "                    verbose=1)"
   ]
  },
  {
   "cell_type": "code",
   "execution_count": 13,
   "id": "e36aab77",
   "metadata": {},
   "outputs": [
    {
     "data": {
      "image/png": "[encoded data removed]",
      "text/plain": [
       "<Figure size 640x480 with 1 Axes>"
      ]
     },
     "metadata": {},
     "output_type": "display_data"
    },
    {
     "data": {
      "image/png": "[encoded data removed]",
      "text/plain": [
       "<Figure size 640x480 with 1 Axes>"
      ]
     },
     "metadata": {},
     "output_type": "display_data"
    }
   ],
   "source": [
    "# 그래프로 accuracy와 loss 확인\n",
    "\n",
    "import matplotlib.pyplot as plt\n",
    "\n",
    "# train accuracy와 val_accuracy 그래프\n",
    "plt.plot(history.history['accuracy'])\n",
    "plt.plot(history.history['val_accuracy'])\n",
    "plt.title('Model accuracy')\n",
    "plt.ylabel('Accuracy')\n",
    "plt.xlabel('Epoch')\n",
    "plt.legend(['Train', 'Validation'], loc='upper left')\n",
    "plt.show()\n",
    "\n",
    "# train loss와 val_loss 그래프\n",
    "plt.plot(history.history['loss'])\n",
    "plt.plot(history.history['val_loss'])\n",
    "plt.title('Model loss')\n",
    "plt.ylabel('Loss')\n",
    "plt.xlabel('Epoch')\n",
    "plt.legend(['Train', 'Validation'], loc='upper left')\n",
    "plt.show()"
   ]
  },
  {
   "cell_type": "code",
   "execution_count": 14,
   "id": "2a143e92",
   "metadata": {
    "scrolled": true
   },
   "outputs": [
    {
     "name": "stdout",
     "output_type": "stream",
     "text": [
      "313/313 [==============================] - 1s 2ms/step - loss: 1.8116 - accuracy: 0.4911\n"
     ]
    },
    {
     "data": {
      "text/plain": [
       "[1.8116176128387451, 0.491100013256073]"
      ]
     },
     "execution_count": 14,
     "metadata": {},
     "output_type": "execute_result"
    }
   ],
   "source": [
    "# Evaluate\n",
    "model.evaluate(x_test, y_test)"
   ]
  },
  {
   "cell_type": "code",
   "execution_count": 75,
   "id": "5646f670",
   "metadata": {},
   "outputs": [],
   "source": [
    "# test loss : 1.8116176128387451\n",
    "# test accuracy : 0.491100013256073"
   ]
  },
  {
   "cell_type": "code",
   "execution_count": 15,
   "id": "ea5ca2a4",
   "metadata": {},
   "outputs": [
    {
     "name": "stdout",
     "output_type": "stream",
     "text": [
      "313/313 [==============================] - 1s 2ms/step\n",
      "\n",
      "test 데이터의 Accuracy : 49.11 %\n"
     ]
    }
   ],
   "source": [
    "# Inference\n",
    "pred = model.predict(x_test)\n",
    "y_pred = np.argmax(pred, axis=1).reshape(-1, 1)\n",
    "print('\\ntest 데이터의 Accuracy :',(sum(y_pred == y_test) / len(y_test) * 100)[0], '%')"
   ]
  },
  {
   "cell_type": "code",
   "execution_count": 16,
   "id": "4db8629f",
   "metadata": {
    "scrolled": true
   },
   "outputs": [
    {
     "name": "stdout",
     "output_type": "stream",
     "text": [
      "Epoch 1 train acc와 val acc의 차이 : 0.0788\n",
      "Epoch 2 train acc와 val acc의 차이 : 0.0243\n",
      "Epoch 3 train acc와 val acc의 차이 : 0.0161\n",
      "Epoch 4 train acc와 val acc의 차이 : 0.0003\n",
      "Epoch 5 train acc와 val acc의 차이 : 0.0185\n",
      "Epoch 6 train acc와 val acc의 차이 : 0.0321\n",
      "Epoch 7 train acc와 val acc의 차이 : 0.0397\n",
      "Epoch 8 train acc와 val acc의 차이 : 0.0566\n",
      "Epoch 9 train acc와 val acc의 차이 : 0.0629\n",
      "Epoch 10 train acc와 val acc의 차이 : 0.0759\n",
      "Epoch 11 train acc와 val acc의 차이 : 0.0994\n",
      "Epoch 12 train acc와 val acc의 차이 : 0.1001\n",
      "Epoch 13 train acc와 val acc의 차이 : 0.1172\n",
      "Epoch 14 train acc와 val acc의 차이 : 0.1363\n",
      "Epoch 15 train acc와 val acc의 차이 : 0.1452\n",
      "Epoch 16 train acc와 val acc의 차이 : 0.153\n",
      "Epoch 17 train acc와 val acc의 차이 : 0.1727\n",
      "Epoch 18 train acc와 val acc의 차이 : 0.1695\n",
      "Epoch 19 train acc와 val acc의 차이 : 0.1946\n",
      "Epoch 20 train acc와 val acc의 차이 : 0.1971\n",
      "Epoch 21 train acc와 val acc의 차이 : 0.1949\n",
      "Epoch 22 train acc와 val acc의 차이 : 0.2118\n",
      "Epoch 23 train acc와 val acc의 차이 : 0.2244\n",
      "Epoch 24 train acc와 val acc의 차이 : 0.2267\n",
      "Epoch 25 train acc와 val acc의 차이 : 0.2374\n",
      "Epoch 26 train acc와 val acc의 차이 : 0.2487\n",
      "Epoch 27 train acc와 val acc의 차이 : 0.2574\n",
      "Epoch 28 train acc와 val acc의 차이 : 0.2647\n",
      "Epoch 29 train acc와 val acc의 차이 : 0.2705\n",
      "Epoch 30 train acc와 val acc의 차이 : 0.2758\n"
     ]
    }
   ],
   "source": [
    "for i in range(len(history.history['accuracy'])):\n",
    "    print(f'Epoch {i+1} train acc와 val acc의 차이 :', round(abs(history.history['accuracy'][i] - history.history['val_accuracy'][i]), 4))"
   ]
  },
  {
   "cell_type": "markdown",
   "id": "f7373b5e",
   "metadata": {},
   "source": [
    "# Summary\n",
    "<br><br>\n",
    "학습이 진행될수록 train 데이터의 정확도는 올라가고 손실은 낮아지지만<br><br>\n",
    "validation 데이터는 5 epochs 이후 정확도는 약 49%를 유지하고 손실은 점점 커지는 경향을 보임<br><br>\n",
    "test 데이터로 evaluate를 진행했을 때도 정확도가 49.11%로 유사한 결과가 나옴<br><br>\n",
    "<br><br>\n",
    "-> epochs가 5 ~ 10 사이일 때, train과 validation의 정확도가 차이가 크지 않지만<br><br>\n",
    "정확도가 약 49%정도로 성능이 좋지 못함. 그리고 학습이 진행될수록 과대적합이 점점 심해짐<br><br>\n",
    "<br><br>\n",
    "input_size에 맞춰주기 위해서 컬러 -> 흑백으로 이미지를 전처리하였고,<br><br>\n",
    "그만큼 이미지를 식별할 수 있는 특성이 사라졌기때문에 학습이 잘 되지않는 것으로 추측<br><br>"
   ]
  }
 ],
 "metadata": {
  "kernelspec": {
   "display_name": "Python 3 (ipykernel)",
   "language": "python",
   "name": "python3"
  },
  "language_info": {
   "codemirror_mode": {
    "name": "ipython",
    "version": 3
   },
   "file_extension": ".py",
   "mimetype": "text/x-python",
   "name": "python",
   "nbconvert_exporter": "python",
   "pygments_lexer": "ipython3",
   "version": "3.9.13"
  }
 },
 "nbformat": 4,
 "nbformat_minor": 5
}
